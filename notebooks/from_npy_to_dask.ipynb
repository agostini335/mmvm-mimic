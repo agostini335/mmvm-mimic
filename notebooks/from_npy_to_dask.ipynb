{
 "cells": [
  {
   "cell_type": "code",
   "execution_count": 1,
   "metadata": {
    "collapsed": true,
    "ExecuteTime": {
     "end_time": "2024-05-06T13:47:59.614069Z",
     "start_time": "2024-05-06T13:47:59.160152Z"
    }
   },
   "outputs": [],
   "source": [
    "from matplotlib import pyplot as plt\n",
    "#path should be data_dir\n",
    "path = \"/Users/ago/PycharmProjects/data\"\n",
    "import os\n",
    "# filename images\n",
    "filename_ap_img = os.path.join(path, \"AP\", \"files_224.npy\")\n",
    "filename_pa_img = os.path.join(path, \"PA\", \"files_224.npy\")\n",
    "filename_lat_img = os.path.join(path, \"LATERAL\", \"files_224.npy\")\n",
    "filename_ll_img = os.path.join(path, \"LL\", \"files_224.npy\")"
   ]
  },
  {
   "cell_type": "code",
   "execution_count": 2,
   "outputs": [],
   "source": [
    "import numpy as np\n",
    "import dask.array as da\n",
    "da_ap = da.from_array(np.load(filename_ap_img, mmap_mode='r'), chunks=(1000,224,224))\n",
    "da_pa = da.from_array(np.load(filename_pa_img, mmap_mode='r'), chunks=(1000,224,224))\n",
    "da_lat = da.from_array(np.load(filename_lat_img, mmap_mode='r'), chunks=(1000,224,224))\n",
    "da_ll = da.from_array(np.load(filename_ll_img, mmap_mode='r'), chunks=(1000,224,224))"
   ],
   "metadata": {
    "collapsed": false,
    "ExecuteTime": {
     "end_time": "2024-05-06T13:48:00.669881Z",
     "start_time": "2024-05-06T13:48:00.233714Z"
    }
   }
  },
  {
   "cell_type": "code",
   "execution_count": 3,
   "outputs": [],
   "source": [
    "out_path = \"/Volumes/agostini-ssd/mimic-dask\""
   ],
   "metadata": {
    "collapsed": false,
    "ExecuteTime": {
     "end_time": "2024-05-06T13:48:01.238510Z",
     "start_time": "2024-05-06T13:48:01.231636Z"
    }
   }
  },
  {
   "cell_type": "code",
   "execution_count": 4,
   "outputs": [],
   "source": [
    "# save as dask array\n",
    "da.to_npy_stack(os.path.join(out_path,\"mimic-dask\", \"AP\"), da_ap)\n",
    "da.to_npy_stack(os.path.join(out_path,\"mimic-dask\", \"PA\"), da_pa)\n",
    "da.to_npy_stack(os.path.join(out_path,\"mimic-dask\", \"LATERAL\"), da_lat)\n",
    "da.to_npy_stack(os.path.join(out_path,\"mimic-dask\", \"LL\"), da_ll)"
   ],
   "metadata": {
    "collapsed": false,
    "ExecuteTime": {
     "end_time": "2024-05-06T13:54:02.749993Z",
     "start_time": "2024-05-06T13:48:10.362427Z"
    }
   }
  }
 ],
 "metadata": {
  "kernelspec": {
   "display_name": "Python 3",
   "language": "python",
   "name": "python3"
  },
  "language_info": {
   "codemirror_mode": {
    "name": "ipython",
    "version": 2
   },
   "file_extension": ".py",
   "mimetype": "text/x-python",
   "name": "python",
   "nbconvert_exporter": "python",
   "pygments_lexer": "ipython2",
   "version": "2.7.6"
  }
 },
 "nbformat": 4,
 "nbformat_minor": 0
}
