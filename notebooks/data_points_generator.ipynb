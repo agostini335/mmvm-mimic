{
 "cells": [
  {
   "cell_type": "code",
   "execution_count": 40,
   "outputs": [
    {
     "data": {
      "text/plain": "                                       dicom_id  subject_id  study_id  \\\n0  68b5c4b1-227d0485-9cc38c3f-7b84ab51-4b472714    10000032  53911762   \n1  fffabebf-74fd3a1f-673b6b41-96ec0ac9-2ab69818    10000032  53911762   \n2  ea030e7a-2e3b1346-bc518786-7a8fd698-f673b44c    10000032  56699142   \n3  096052b7-d256dc40-453a102b-fa7d01c6-1b22c6b4    10000764  57375967   \n4  d0b71acc-b5a62046-bbb5f6b8-7b173b85-65cdf738    10000935  50578979   \n\n  ViewPosition  Atelectasis  Cardiomegaly  Consolidation  Edema  \\\n0           AP          NaN           NaN            NaN    NaN   \n1           AP          NaN           NaN            NaN    NaN   \n2           AP          NaN           NaN            NaN    NaN   \n3           AP          NaN           NaN            1.0    NaN   \n4           AP          NaN           NaN            NaN   -1.0   \n\n   Enlarged Cardiomediastinum  Fracture  Lung Lesion  Lung Opacity  \\\n0                         NaN       NaN          NaN           NaN   \n1                         NaN       NaN          NaN           NaN   \n2                         NaN       NaN          NaN           NaN   \n3                         NaN       NaN          NaN           NaN   \n4                         NaN       NaN          NaN          -1.0   \n\n   No Finding  Pleural Effusion  Pleural Other  Pneumonia  Pneumothorax  \\\n0         1.0               NaN            NaN        NaN           NaN   \n1         1.0               NaN            NaN        NaN           NaN   \n2         1.0               NaN            NaN        NaN           NaN   \n3         NaN               NaN            NaN       -1.0           NaN   \n4         NaN               1.0            NaN        1.0           NaN   \n\n   Support Devices                                               path  \n0              NaN  files/p10/p10000032/s53911762/68b5c4b1-227d048...  \n1              NaN  files/p10/p10000032/s53911762/fffabebf-74fd3a1...  \n2              NaN  files/p10/p10000032/s56699142/ea030e7a-2e3b134...  \n3              NaN  files/p10/p10000764/s57375967/096052b7-d256dc4...  \n4              NaN  files/p10/p10000935/s50578979/d0b71acc-b5a6204...  ",
      "text/html": "<div>\n<style scoped>\n    .dataframe tbody tr th:only-of-type {\n        vertical-align: middle;\n    }\n\n    .dataframe tbody tr th {\n        vertical-align: top;\n    }\n\n    .dataframe thead th {\n        text-align: right;\n    }\n</style>\n<table border=\"1\" class=\"dataframe\">\n  <thead>\n    <tr style=\"text-align: right;\">\n      <th></th>\n      <th>dicom_id</th>\n      <th>subject_id</th>\n      <th>study_id</th>\n      <th>ViewPosition</th>\n      <th>Atelectasis</th>\n      <th>Cardiomegaly</th>\n      <th>Consolidation</th>\n      <th>Edema</th>\n      <th>Enlarged Cardiomediastinum</th>\n      <th>Fracture</th>\n      <th>Lung Lesion</th>\n      <th>Lung Opacity</th>\n      <th>No Finding</th>\n      <th>Pleural Effusion</th>\n      <th>Pleural Other</th>\n      <th>Pneumonia</th>\n      <th>Pneumothorax</th>\n      <th>Support Devices</th>\n      <th>path</th>\n    </tr>\n  </thead>\n  <tbody>\n    <tr>\n      <th>0</th>\n      <td>68b5c4b1-227d0485-9cc38c3f-7b84ab51-4b472714</td>\n      <td>10000032</td>\n      <td>53911762</td>\n      <td>AP</td>\n      <td>NaN</td>\n      <td>NaN</td>\n      <td>NaN</td>\n      <td>NaN</td>\n      <td>NaN</td>\n      <td>NaN</td>\n      <td>NaN</td>\n      <td>NaN</td>\n      <td>1.0</td>\n      <td>NaN</td>\n      <td>NaN</td>\n      <td>NaN</td>\n      <td>NaN</td>\n      <td>NaN</td>\n      <td>files/p10/p10000032/s53911762/68b5c4b1-227d048...</td>\n    </tr>\n    <tr>\n      <th>1</th>\n      <td>fffabebf-74fd3a1f-673b6b41-96ec0ac9-2ab69818</td>\n      <td>10000032</td>\n      <td>53911762</td>\n      <td>AP</td>\n      <td>NaN</td>\n      <td>NaN</td>\n      <td>NaN</td>\n      <td>NaN</td>\n      <td>NaN</td>\n      <td>NaN</td>\n      <td>NaN</td>\n      <td>NaN</td>\n      <td>1.0</td>\n      <td>NaN</td>\n      <td>NaN</td>\n      <td>NaN</td>\n      <td>NaN</td>\n      <td>NaN</td>\n      <td>files/p10/p10000032/s53911762/fffabebf-74fd3a1...</td>\n    </tr>\n    <tr>\n      <th>2</th>\n      <td>ea030e7a-2e3b1346-bc518786-7a8fd698-f673b44c</td>\n      <td>10000032</td>\n      <td>56699142</td>\n      <td>AP</td>\n      <td>NaN</td>\n      <td>NaN</td>\n      <td>NaN</td>\n      <td>NaN</td>\n      <td>NaN</td>\n      <td>NaN</td>\n      <td>NaN</td>\n      <td>NaN</td>\n      <td>1.0</td>\n      <td>NaN</td>\n      <td>NaN</td>\n      <td>NaN</td>\n      <td>NaN</td>\n      <td>NaN</td>\n      <td>files/p10/p10000032/s56699142/ea030e7a-2e3b134...</td>\n    </tr>\n    <tr>\n      <th>3</th>\n      <td>096052b7-d256dc40-453a102b-fa7d01c6-1b22c6b4</td>\n      <td>10000764</td>\n      <td>57375967</td>\n      <td>AP</td>\n      <td>NaN</td>\n      <td>NaN</td>\n      <td>1.0</td>\n      <td>NaN</td>\n      <td>NaN</td>\n      <td>NaN</td>\n      <td>NaN</td>\n      <td>NaN</td>\n      <td>NaN</td>\n      <td>NaN</td>\n      <td>NaN</td>\n      <td>-1.0</td>\n      <td>NaN</td>\n      <td>NaN</td>\n      <td>files/p10/p10000764/s57375967/096052b7-d256dc4...</td>\n    </tr>\n    <tr>\n      <th>4</th>\n      <td>d0b71acc-b5a62046-bbb5f6b8-7b173b85-65cdf738</td>\n      <td>10000935</td>\n      <td>50578979</td>\n      <td>AP</td>\n      <td>NaN</td>\n      <td>NaN</td>\n      <td>NaN</td>\n      <td>-1.0</td>\n      <td>NaN</td>\n      <td>NaN</td>\n      <td>NaN</td>\n      <td>-1.0</td>\n      <td>NaN</td>\n      <td>1.0</td>\n      <td>NaN</td>\n      <td>1.0</td>\n      <td>NaN</td>\n      <td>NaN</td>\n      <td>files/p10/p10000935/s50578979/d0b71acc-b5a6204...</td>\n    </tr>\n  </tbody>\n</table>\n</div>"
     },
     "execution_count": 40,
     "metadata": {},
     "output_type": "execute_result"
    }
   ],
   "source": [
    "import os\n",
    "import pandas as pd\n",
    "path = \"/Users/ago/PycharmProjects/data\"\n",
    "\n",
    "# filename images\n",
    "filename_ap_img = os.path.join(path, \"AP\", \"files_224.npy\")\n",
    "filename_lateral_img = os.path.join(path, \"LATERAL\", \"files_224.npy\")\n",
    "filename_pa_img = os.path.join(path, \"PA\", \"files_224.npy\")\n",
    "filename_ll_img = os.path.join(path, \"LL\", \"files_224.npy\")\n",
    "\n",
    "# filename metadata\n",
    "filename_ap_meta = os.path.join(path, \"AP\", \"meta_data.csv\")\n",
    "filename_lateral_meta = os.path.join(path, \"LATERAL\", \"meta_data.csv\")\n",
    "filename_pa_meta = os.path.join(path, \"PA\", \"meta_data.csv\")\n",
    "filename_ll_meta = os.path.join(path, \"LL\", \"meta_data.csv\")\n",
    "\n",
    "# filename general metadata\n",
    "filename_general_meta = os.path.join(path, \"mimic-cxr-2.0.0-metadata.csv\")\n",
    "file_metadata_label = os.path.join(path, \"mimic-cxr-2.0.0-chexpert.csv\")\n",
    "\n",
    "\n",
    "# load metadata dfs\n",
    "df_ap = pd.read_csv(filename_ap_meta)\n",
    "df_pa = pd.read_csv(filename_pa_meta)\n",
    "df_ll = pd.read_csv(filename_ll_meta)\n",
    "df_lateral = pd.read_csv(filename_lateral_meta)\n",
    "df_label = pd.read_csv(file_metadata_label)\n",
    "df_metadata_original = pd.read_csv(filename_general_meta)\n",
    "\n",
    "\n",
    "dfs_meta = {'AP': df_ap, 'PA': df_pa, 'LL': df_ll, 'LATERAL': df_lateral}\n",
    "modalities = ['AP', 'PA', 'LATERAL', 'LL']\n",
    "\n",
    "## build df as union of all metadata\n",
    "df_general = pd.concat([df_ap, df_pa, df_ll, df_lateral], ignore_index=True)\n",
    "\n",
    "\n",
    "df = df_general\n",
    "df.head()"
   ],
   "metadata": {
    "collapsed": false,
    "ExecuteTime": {
     "end_time": "2024-05-02T13:14:02.385965Z",
     "start_time": "2024-05-02T13:14:01.432837Z"
    }
   }
  },
  {
   "cell_type": "code",
   "execution_count": 23,
   "outputs": [
    {
     "data": {
      "text/plain": "         subject_id      study_id   Atelectasis  Cardiomegaly  Consolidation  \\\ncount  3.613010e+05  3.613010e+05  80251.000000  92397.000000   34069.000000   \nmean   1.500823e+07  5.500462e+07      0.597949      0.579034       0.229798   \nstd    2.879318e+06  2.886344e+06      0.784863      0.646885       0.737661   \nmin    1.000003e+07  5.000001e+07     -1.000000     -1.000000      -1.000000   \n25%    1.250380e+07  5.250253e+07      1.000000      0.000000       0.000000   \n50%    1.501672e+07  5.501034e+07      1.000000      1.000000       0.000000   \n75%    1.748972e+07  5.750519e+07      1.000000      1.000000       1.000000   \nmax    1.999999e+07  5.999992e+07      1.000000      1.000000       1.000000   \n\n              Edema  Enlarged Cardiomediastinum      Fracture   Lung Lesion  \\\ncount  92069.000000                29712.000000  10032.000000  13629.000000   \nmean       0.181994                   -0.083468      0.624402      0.612224   \nstd        0.749379                    0.849976      0.663859      0.716877   \nmin       -1.000000                   -1.000000     -1.000000     -1.000000   \n25%        0.000000                   -1.000000      0.000000      1.000000   \n50%        0.000000                    0.000000      1.000000      1.000000   \n75%        1.000000                    1.000000      1.000000      1.000000   \nmax        1.000000                    1.000000      1.000000      1.000000   \n\n       Lung Opacity  No Finding  Pleural Effusion  Pleural Other  \\\ncount  83638.000000    137491.0     122120.000000    4768.000000   \nmean       0.810373         1.0          0.540804       0.400587   \nstd        0.537025         0.0          0.620371       0.890110   \nmin       -1.000000         1.0         -1.000000      -1.000000   \n25%        1.000000         1.0          0.000000      -1.000000   \n50%        1.000000         1.0          1.000000       1.000000   \n75%        1.000000         1.0          1.000000       1.000000   \nmax        1.000000         1.0          1.000000       1.000000   \n\n          Pneumonia  Pneumothorax  Support Devices  \ncount  91456.000000  70910.000000     87148.000000  \nmean      -0.038488      0.175462         0.935064  \nstd        0.758460      0.432548         0.262381  \nmin       -1.000000     -1.000000        -1.000000  \n25%       -1.000000      0.000000         1.000000  \n50%        0.000000      0.000000         1.000000  \n75%        1.000000      0.000000         1.000000  \nmax        1.000000      1.000000         1.000000  ",
      "text/html": "<div>\n<style scoped>\n    .dataframe tbody tr th:only-of-type {\n        vertical-align: middle;\n    }\n\n    .dataframe tbody tr th {\n        vertical-align: top;\n    }\n\n    .dataframe thead th {\n        text-align: right;\n    }\n</style>\n<table border=\"1\" class=\"dataframe\">\n  <thead>\n    <tr style=\"text-align: right;\">\n      <th></th>\n      <th>subject_id</th>\n      <th>study_id</th>\n      <th>Atelectasis</th>\n      <th>Cardiomegaly</th>\n      <th>Consolidation</th>\n      <th>Edema</th>\n      <th>Enlarged Cardiomediastinum</th>\n      <th>Fracture</th>\n      <th>Lung Lesion</th>\n      <th>Lung Opacity</th>\n      <th>No Finding</th>\n      <th>Pleural Effusion</th>\n      <th>Pleural Other</th>\n      <th>Pneumonia</th>\n      <th>Pneumothorax</th>\n      <th>Support Devices</th>\n    </tr>\n  </thead>\n  <tbody>\n    <tr>\n      <th>count</th>\n      <td>3.613010e+05</td>\n      <td>3.613010e+05</td>\n      <td>80251.000000</td>\n      <td>92397.000000</td>\n      <td>34069.000000</td>\n      <td>92069.000000</td>\n      <td>29712.000000</td>\n      <td>10032.000000</td>\n      <td>13629.000000</td>\n      <td>83638.000000</td>\n      <td>137491.0</td>\n      <td>122120.000000</td>\n      <td>4768.000000</td>\n      <td>91456.000000</td>\n      <td>70910.000000</td>\n      <td>87148.000000</td>\n    </tr>\n    <tr>\n      <th>mean</th>\n      <td>1.500823e+07</td>\n      <td>5.500462e+07</td>\n      <td>0.597949</td>\n      <td>0.579034</td>\n      <td>0.229798</td>\n      <td>0.181994</td>\n      <td>-0.083468</td>\n      <td>0.624402</td>\n      <td>0.612224</td>\n      <td>0.810373</td>\n      <td>1.0</td>\n      <td>0.540804</td>\n      <td>0.400587</td>\n      <td>-0.038488</td>\n      <td>0.175462</td>\n      <td>0.935064</td>\n    </tr>\n    <tr>\n      <th>std</th>\n      <td>2.879318e+06</td>\n      <td>2.886344e+06</td>\n      <td>0.784863</td>\n      <td>0.646885</td>\n      <td>0.737661</td>\n      <td>0.749379</td>\n      <td>0.849976</td>\n      <td>0.663859</td>\n      <td>0.716877</td>\n      <td>0.537025</td>\n      <td>0.0</td>\n      <td>0.620371</td>\n      <td>0.890110</td>\n      <td>0.758460</td>\n      <td>0.432548</td>\n      <td>0.262381</td>\n    </tr>\n    <tr>\n      <th>min</th>\n      <td>1.000003e+07</td>\n      <td>5.000001e+07</td>\n      <td>-1.000000</td>\n      <td>-1.000000</td>\n      <td>-1.000000</td>\n      <td>-1.000000</td>\n      <td>-1.000000</td>\n      <td>-1.000000</td>\n      <td>-1.000000</td>\n      <td>-1.000000</td>\n      <td>1.0</td>\n      <td>-1.000000</td>\n      <td>-1.000000</td>\n      <td>-1.000000</td>\n      <td>-1.000000</td>\n      <td>-1.000000</td>\n    </tr>\n    <tr>\n      <th>25%</th>\n      <td>1.250380e+07</td>\n      <td>5.250253e+07</td>\n      <td>1.000000</td>\n      <td>0.000000</td>\n      <td>0.000000</td>\n      <td>0.000000</td>\n      <td>-1.000000</td>\n      <td>0.000000</td>\n      <td>1.000000</td>\n      <td>1.000000</td>\n      <td>1.0</td>\n      <td>0.000000</td>\n      <td>-1.000000</td>\n      <td>-1.000000</td>\n      <td>0.000000</td>\n      <td>1.000000</td>\n    </tr>\n    <tr>\n      <th>50%</th>\n      <td>1.501672e+07</td>\n      <td>5.501034e+07</td>\n      <td>1.000000</td>\n      <td>1.000000</td>\n      <td>0.000000</td>\n      <td>0.000000</td>\n      <td>0.000000</td>\n      <td>1.000000</td>\n      <td>1.000000</td>\n      <td>1.000000</td>\n      <td>1.0</td>\n      <td>1.000000</td>\n      <td>1.000000</td>\n      <td>0.000000</td>\n      <td>0.000000</td>\n      <td>1.000000</td>\n    </tr>\n    <tr>\n      <th>75%</th>\n      <td>1.748972e+07</td>\n      <td>5.750519e+07</td>\n      <td>1.000000</td>\n      <td>1.000000</td>\n      <td>1.000000</td>\n      <td>1.000000</td>\n      <td>1.000000</td>\n      <td>1.000000</td>\n      <td>1.000000</td>\n      <td>1.000000</td>\n      <td>1.0</td>\n      <td>1.000000</td>\n      <td>1.000000</td>\n      <td>1.000000</td>\n      <td>0.000000</td>\n      <td>1.000000</td>\n    </tr>\n    <tr>\n      <th>max</th>\n      <td>1.999999e+07</td>\n      <td>5.999992e+07</td>\n      <td>1.000000</td>\n      <td>1.000000</td>\n      <td>1.000000</td>\n      <td>1.000000</td>\n      <td>1.000000</td>\n      <td>1.000000</td>\n      <td>1.000000</td>\n      <td>1.000000</td>\n      <td>1.0</td>\n      <td>1.000000</td>\n      <td>1.000000</td>\n      <td>1.000000</td>\n      <td>1.000000</td>\n      <td>1.000000</td>\n    </tr>\n  </tbody>\n</table>\n</div>"
     },
     "execution_count": 23,
     "metadata": {},
     "output_type": "execute_result"
    }
   ],
   "source": [
    "df.describe()"
   ],
   "metadata": {
    "collapsed": false,
    "ExecuteTime": {
     "end_time": "2024-05-02T12:52:38.109961Z",
     "start_time": "2024-05-02T12:52:38.001555Z"
    }
   }
  },
  {
   "cell_type": "code",
   "execution_count": 24,
   "outputs": [],
   "source": [
    "# iterate over rows of df and calculate modality\n",
    "modality_col = []\n",
    "for i,row in df.iterrows():\n",
    "    if row.ViewPosition == 'AP' or row.ViewPosition == 'PA':\n",
    "        modality_col.append('FRONTAL')\n",
    "    elif row.ViewPosition == 'LL' or row.ViewPosition == 'LATERAL':\n",
    "        modality_col.append('LATERAL')\n",
    "    else:\n",
    "        modality_col.append('OTHER')\n",
    "df['modality'] = modality_col\n",
    "\n",
    "#compute img comb per study\n",
    "img_comb_per_study  = df.groupby('study_id')['modality'].apply(list).reset_index()\n",
    "img_comb_per_study\n",
    "\n",
    "# sort the list of modalities\n",
    "string_label = []\n",
    "for i,row in img_comb_per_study.iterrows():\n",
    "    row['modality'].sort()\n",
    "    string_label.append('-'.join(row['modality']))\n",
    "img_comb_per_study['sorted_modality'] = string_label\n",
    "\n",
    "#compute categories\n",
    "categories = [\"F>=1 - L=0\", \"F=0 - L>=1\", \"F>=1 - L>=1\", \"F=1 - L=1\", \"F=0 - L=0\"]\n",
    "categories = []\n",
    "for i,row in img_comb_per_study.iterrows():\n",
    "    if 'FRONTAL' in row['modality'] and 'LATERAL' not in row['modality']:\n",
    "        categories.append(\"F>=1 - L=0\")\n",
    "    elif 'FRONTAL' not in row['modality'] and 'LATERAL' in row['modality']:\n",
    "        categories.append(\"F=0 - L>=1\")\n",
    "    if row['modality'].count('FRONTAL')==1 and row['modality'].count('LATERAL')==1:\n",
    "        categories.append(\"F=1 - L=1\")\n",
    "    elif 'FRONTAL' in row['modality'] and 'LATERAL' in row['modality']:\n",
    "        categories.append(\"F>=1 - L>=1 (no 1,1)\")\n",
    "    elif 'FRONTAL' not in row['modality'] and 'LATERAL' not in row['modality']:\n",
    "        categories.append(\"F=0 - L=0\")\n",
    "img_comb_per_study['category'] = categories\n",
    "\n",
    "\n",
    "# join df with study category\n",
    "df_dpg = df.join(img_comb_per_study.set_index(\"study_id\"), on='study_id', how='left', rsuffix=\"_r\")\n",
    "# filter relevant categories\n",
    "df_dpg = df_dpg[df_dpg['category'].isin([\"F=1 - L=1\", \"F>=1 - L>=1 (no 1,1)\"])]"
   ],
   "metadata": {
    "collapsed": false,
    "ExecuteTime": {
     "end_time": "2024-05-02T12:53:29.786330Z",
     "start_time": "2024-05-02T12:53:15.632158Z"
    }
   }
  },
  {
   "cell_type": "code",
   "execution_count": 25,
   "outputs": [],
   "source": [
    "def generate_combo(df):\n",
    "    frontal_list = df[df['modality']=='FRONTAL']['dicom_id'].tolist()\n",
    "    f_view_pos_list = df[df['modality']=='FRONTAL']['ViewPosition'].tolist()\n",
    "    lateral_list = df[df['modality']=='LATERAL']['dicom_id'].tolist()\n",
    "    l_view_pos_list = df[df['modality']=='LATERAL']['ViewPosition'].tolist()\n",
    "    study_id = df['study_id'].iloc[0]\n",
    "    subject_id = df['subject_id'].iloc[0]\n",
    "    combo = []\n",
    "    for i,f in enumerate(frontal_list):\n",
    "        for j,l in enumerate(lateral_list):\n",
    "            combo.append([subject_id,study_id, f, l, f_view_pos_list[i], l_view_pos_list[j]])\n",
    "    return combo"
   ],
   "metadata": {
    "collapsed": false,
    "ExecuteTime": {
     "end_time": "2024-05-02T12:54:24.021626Z",
     "start_time": "2024-05-02T12:54:24.004439Z"
    }
   }
  },
  {
   "cell_type": "code",
   "execution_count": 26,
   "outputs": [
    {
     "data": {
      "text/plain": "                                            dicom_id  subject_id  study_id  \\\n635     74c2458e-fd4cb668-4c2252bd-7662dc91-e3c081af    10033552  56492208   \n636     86b30a0d-54904a7c-0b4a29f9-3b950034-79b5d4d8    10033552  56492208   \n637     bbe5314f-10bb4583-fcf5306b-7acf1734-1e39a0b6    10033552  56492208   \n278774  a0de0a3b-6142e679-2b632229-24d92246-6b20a513    10033552  56492208   \n278775  eec31fb8-92ee1a89-675eb420-0b6d9ec0-906560ab    10033552  56492208   \n\n       ViewPosition  Atelectasis  Cardiomegaly  Consolidation  Edema  \\\n635              AP          NaN           NaN            0.0    1.0   \n636              AP          NaN           NaN            0.0    1.0   \n637              AP          NaN           NaN            0.0    1.0   \n278774      LATERAL          NaN           NaN            0.0    1.0   \n278775      LATERAL          NaN           NaN            0.0    1.0   \n\n        Enlarged Cardiomediastinum  Fracture  ...  Pleural Effusion  \\\n635                            NaN       NaN  ...               NaN   \n636                            NaN       NaN  ...               NaN   \n637                            NaN       NaN  ...               NaN   \n278774                         NaN       NaN  ...               NaN   \n278775                         NaN       NaN  ...               NaN   \n\n        Pleural Other  Pneumonia  Pneumothorax  Support Devices  \\\n635               NaN        1.0           NaN              NaN   \n636               NaN        1.0           NaN              NaN   \n637               NaN        1.0           NaN              NaN   \n278774            NaN        1.0           NaN              NaN   \n278775            NaN        1.0           NaN              NaN   \n\n                                                     path  modality  \\\n635     files/p10/p10033552/s56492208/74c2458e-fd4cb66...   FRONTAL   \n636     files/p10/p10033552/s56492208/86b30a0d-54904a7...   FRONTAL   \n637     files/p10/p10033552/s56492208/bbe5314f-10bb458...   FRONTAL   \n278774  files/p10/p10033552/s56492208/a0de0a3b-6142e67...   LATERAL   \n278775  files/p10/p10033552/s56492208/eec31fb8-92ee1a8...   LATERAL   \n\n                                           modality_r  \\\n635     [FRONTAL, FRONTAL, FRONTAL, LATERAL, LATERAL]   \n636     [FRONTAL, FRONTAL, FRONTAL, LATERAL, LATERAL]   \n637     [FRONTAL, FRONTAL, FRONTAL, LATERAL, LATERAL]   \n278774  [FRONTAL, FRONTAL, FRONTAL, LATERAL, LATERAL]   \n278775  [FRONTAL, FRONTAL, FRONTAL, LATERAL, LATERAL]   \n\n                                sorted_modality              category  \n635     FRONTAL-FRONTAL-FRONTAL-LATERAL-LATERAL  F>=1 - L>=1 (no 1,1)  \n636     FRONTAL-FRONTAL-FRONTAL-LATERAL-LATERAL  F>=1 - L>=1 (no 1,1)  \n637     FRONTAL-FRONTAL-FRONTAL-LATERAL-LATERAL  F>=1 - L>=1 (no 1,1)  \n278774  FRONTAL-FRONTAL-FRONTAL-LATERAL-LATERAL  F>=1 - L>=1 (no 1,1)  \n278775  FRONTAL-FRONTAL-FRONTAL-LATERAL-LATERAL  F>=1 - L>=1 (no 1,1)  \n\n[5 rows x 23 columns]",
      "text/html": "<div>\n<style scoped>\n    .dataframe tbody tr th:only-of-type {\n        vertical-align: middle;\n    }\n\n    .dataframe tbody tr th {\n        vertical-align: top;\n    }\n\n    .dataframe thead th {\n        text-align: right;\n    }\n</style>\n<table border=\"1\" class=\"dataframe\">\n  <thead>\n    <tr style=\"text-align: right;\">\n      <th></th>\n      <th>dicom_id</th>\n      <th>subject_id</th>\n      <th>study_id</th>\n      <th>ViewPosition</th>\n      <th>Atelectasis</th>\n      <th>Cardiomegaly</th>\n      <th>Consolidation</th>\n      <th>Edema</th>\n      <th>Enlarged Cardiomediastinum</th>\n      <th>Fracture</th>\n      <th>...</th>\n      <th>Pleural Effusion</th>\n      <th>Pleural Other</th>\n      <th>Pneumonia</th>\n      <th>Pneumothorax</th>\n      <th>Support Devices</th>\n      <th>path</th>\n      <th>modality</th>\n      <th>modality_r</th>\n      <th>sorted_modality</th>\n      <th>category</th>\n    </tr>\n  </thead>\n  <tbody>\n    <tr>\n      <th>635</th>\n      <td>74c2458e-fd4cb668-4c2252bd-7662dc91-e3c081af</td>\n      <td>10033552</td>\n      <td>56492208</td>\n      <td>AP</td>\n      <td>NaN</td>\n      <td>NaN</td>\n      <td>0.0</td>\n      <td>1.0</td>\n      <td>NaN</td>\n      <td>NaN</td>\n      <td>...</td>\n      <td>NaN</td>\n      <td>NaN</td>\n      <td>1.0</td>\n      <td>NaN</td>\n      <td>NaN</td>\n      <td>files/p10/p10033552/s56492208/74c2458e-fd4cb66...</td>\n      <td>FRONTAL</td>\n      <td>[FRONTAL, FRONTAL, FRONTAL, LATERAL, LATERAL]</td>\n      <td>FRONTAL-FRONTAL-FRONTAL-LATERAL-LATERAL</td>\n      <td>F&gt;=1 - L&gt;=1 (no 1,1)</td>\n    </tr>\n    <tr>\n      <th>636</th>\n      <td>86b30a0d-54904a7c-0b4a29f9-3b950034-79b5d4d8</td>\n      <td>10033552</td>\n      <td>56492208</td>\n      <td>AP</td>\n      <td>NaN</td>\n      <td>NaN</td>\n      <td>0.0</td>\n      <td>1.0</td>\n      <td>NaN</td>\n      <td>NaN</td>\n      <td>...</td>\n      <td>NaN</td>\n      <td>NaN</td>\n      <td>1.0</td>\n      <td>NaN</td>\n      <td>NaN</td>\n      <td>files/p10/p10033552/s56492208/86b30a0d-54904a7...</td>\n      <td>FRONTAL</td>\n      <td>[FRONTAL, FRONTAL, FRONTAL, LATERAL, LATERAL]</td>\n      <td>FRONTAL-FRONTAL-FRONTAL-LATERAL-LATERAL</td>\n      <td>F&gt;=1 - L&gt;=1 (no 1,1)</td>\n    </tr>\n    <tr>\n      <th>637</th>\n      <td>bbe5314f-10bb4583-fcf5306b-7acf1734-1e39a0b6</td>\n      <td>10033552</td>\n      <td>56492208</td>\n      <td>AP</td>\n      <td>NaN</td>\n      <td>NaN</td>\n      <td>0.0</td>\n      <td>1.0</td>\n      <td>NaN</td>\n      <td>NaN</td>\n      <td>...</td>\n      <td>NaN</td>\n      <td>NaN</td>\n      <td>1.0</td>\n      <td>NaN</td>\n      <td>NaN</td>\n      <td>files/p10/p10033552/s56492208/bbe5314f-10bb458...</td>\n      <td>FRONTAL</td>\n      <td>[FRONTAL, FRONTAL, FRONTAL, LATERAL, LATERAL]</td>\n      <td>FRONTAL-FRONTAL-FRONTAL-LATERAL-LATERAL</td>\n      <td>F&gt;=1 - L&gt;=1 (no 1,1)</td>\n    </tr>\n    <tr>\n      <th>278774</th>\n      <td>a0de0a3b-6142e679-2b632229-24d92246-6b20a513</td>\n      <td>10033552</td>\n      <td>56492208</td>\n      <td>LATERAL</td>\n      <td>NaN</td>\n      <td>NaN</td>\n      <td>0.0</td>\n      <td>1.0</td>\n      <td>NaN</td>\n      <td>NaN</td>\n      <td>...</td>\n      <td>NaN</td>\n      <td>NaN</td>\n      <td>1.0</td>\n      <td>NaN</td>\n      <td>NaN</td>\n      <td>files/p10/p10033552/s56492208/a0de0a3b-6142e67...</td>\n      <td>LATERAL</td>\n      <td>[FRONTAL, FRONTAL, FRONTAL, LATERAL, LATERAL]</td>\n      <td>FRONTAL-FRONTAL-FRONTAL-LATERAL-LATERAL</td>\n      <td>F&gt;=1 - L&gt;=1 (no 1,1)</td>\n    </tr>\n    <tr>\n      <th>278775</th>\n      <td>eec31fb8-92ee1a89-675eb420-0b6d9ec0-906560ab</td>\n      <td>10033552</td>\n      <td>56492208</td>\n      <td>LATERAL</td>\n      <td>NaN</td>\n      <td>NaN</td>\n      <td>0.0</td>\n      <td>1.0</td>\n      <td>NaN</td>\n      <td>NaN</td>\n      <td>...</td>\n      <td>NaN</td>\n      <td>NaN</td>\n      <td>1.0</td>\n      <td>NaN</td>\n      <td>NaN</td>\n      <td>files/p10/p10033552/s56492208/eec31fb8-92ee1a8...</td>\n      <td>LATERAL</td>\n      <td>[FRONTAL, FRONTAL, FRONTAL, LATERAL, LATERAL]</td>\n      <td>FRONTAL-FRONTAL-FRONTAL-LATERAL-LATERAL</td>\n      <td>F&gt;=1 - L&gt;=1 (no 1,1)</td>\n    </tr>\n  </tbody>\n</table>\n<p>5 rows × 23 columns</p>\n</div>"
     },
     "execution_count": 26,
     "metadata": {},
     "output_type": "execute_result"
    }
   ],
   "source": [
    "df_test = df_dpg[df_dpg['study_id']==56492208]\n",
    "df_test.head()"
   ],
   "metadata": {
    "collapsed": false,
    "ExecuteTime": {
     "end_time": "2024-05-02T12:54:25.714540Z",
     "start_time": "2024-05-02T12:54:25.696892Z"
    }
   }
  },
  {
   "cell_type": "code",
   "execution_count": 27,
   "outputs": [
    {
     "data": {
      "text/plain": "[[10033552,\n  56492208,\n  '74c2458e-fd4cb668-4c2252bd-7662dc91-e3c081af',\n  'a0de0a3b-6142e679-2b632229-24d92246-6b20a513',\n  'AP',\n  'LATERAL'],\n [10033552,\n  56492208,\n  '74c2458e-fd4cb668-4c2252bd-7662dc91-e3c081af',\n  'eec31fb8-92ee1a89-675eb420-0b6d9ec0-906560ab',\n  'AP',\n  'LATERAL'],\n [10033552,\n  56492208,\n  '86b30a0d-54904a7c-0b4a29f9-3b950034-79b5d4d8',\n  'a0de0a3b-6142e679-2b632229-24d92246-6b20a513',\n  'AP',\n  'LATERAL'],\n [10033552,\n  56492208,\n  '86b30a0d-54904a7c-0b4a29f9-3b950034-79b5d4d8',\n  'eec31fb8-92ee1a89-675eb420-0b6d9ec0-906560ab',\n  'AP',\n  'LATERAL'],\n [10033552,\n  56492208,\n  'bbe5314f-10bb4583-fcf5306b-7acf1734-1e39a0b6',\n  'a0de0a3b-6142e679-2b632229-24d92246-6b20a513',\n  'AP',\n  'LATERAL'],\n [10033552,\n  56492208,\n  'bbe5314f-10bb4583-fcf5306b-7acf1734-1e39a0b6',\n  'eec31fb8-92ee1a89-675eb420-0b6d9ec0-906560ab',\n  'AP',\n  'LATERAL']]"
     },
     "execution_count": 27,
     "metadata": {},
     "output_type": "execute_result"
    }
   ],
   "source": [
    "generate_combo(df_test)"
   ],
   "metadata": {
    "collapsed": false,
    "ExecuteTime": {
     "end_time": "2024-05-02T12:54:34.507601Z",
     "start_time": "2024-05-02T12:54:34.497053Z"
    }
   }
  },
  {
   "cell_type": "code",
   "execution_count": 28,
   "outputs": [
    {
     "data": {
      "text/plain": "   subject_id  study_id                                    frontal_id  \\\n0    10000764  57375967  096052b7-d256dc40-453a102b-fa7d01c6-1b22c6b4   \n1    10000764  57375967  096052b7-d256dc40-453a102b-fa7d01c6-1b22c6b4   \n2    10000935  51178377  9b314ad7-fbcb0422-6db62dfc-732858d0-a5527d8b   \n3    10000935  56164612  8e3f2822-0c1d4b71-2a265bbf-5b96e531-ccf5fa30   \n4    10000980  54577367  cfb03587-782edf6c-1bf392e1-98196cd5-365d69e8   \n\n                                     lateral_id view_pos_frontal  \\\n0  b79e55c3-735ce5ac-64412506-cdc9ea79-f1af521f               AP   \n1  dcfeeac4-1597e318-d0e6736a-8b2c2238-47ac3f1b               AP   \n2  3be619d1-506a66cf-ff1ab8a1-2efb77bb-fe7d59fc               AP   \n3  ad13cf84-62c34a01-a01b9e87-2581a359-83bbc046               AP   \n4  96f9a77c-59b47dfb-0cac64db-6538421a-a6b135e2               AP   \n\n  view_pos_lateral  \n0          LATERAL  \n1          LATERAL  \n2          LATERAL  \n3          LATERAL  \n4          LATERAL  ",
      "text/html": "<div>\n<style scoped>\n    .dataframe tbody tr th:only-of-type {\n        vertical-align: middle;\n    }\n\n    .dataframe tbody tr th {\n        vertical-align: top;\n    }\n\n    .dataframe thead th {\n        text-align: right;\n    }\n</style>\n<table border=\"1\" class=\"dataframe\">\n  <thead>\n    <tr style=\"text-align: right;\">\n      <th></th>\n      <th>subject_id</th>\n      <th>study_id</th>\n      <th>frontal_id</th>\n      <th>lateral_id</th>\n      <th>view_pos_frontal</th>\n      <th>view_pos_lateral</th>\n    </tr>\n  </thead>\n  <tbody>\n    <tr>\n      <th>0</th>\n      <td>10000764</td>\n      <td>57375967</td>\n      <td>096052b7-d256dc40-453a102b-fa7d01c6-1b22c6b4</td>\n      <td>b79e55c3-735ce5ac-64412506-cdc9ea79-f1af521f</td>\n      <td>AP</td>\n      <td>LATERAL</td>\n    </tr>\n    <tr>\n      <th>1</th>\n      <td>10000764</td>\n      <td>57375967</td>\n      <td>096052b7-d256dc40-453a102b-fa7d01c6-1b22c6b4</td>\n      <td>dcfeeac4-1597e318-d0e6736a-8b2c2238-47ac3f1b</td>\n      <td>AP</td>\n      <td>LATERAL</td>\n    </tr>\n    <tr>\n      <th>2</th>\n      <td>10000935</td>\n      <td>51178377</td>\n      <td>9b314ad7-fbcb0422-6db62dfc-732858d0-a5527d8b</td>\n      <td>3be619d1-506a66cf-ff1ab8a1-2efb77bb-fe7d59fc</td>\n      <td>AP</td>\n      <td>LATERAL</td>\n    </tr>\n    <tr>\n      <th>3</th>\n      <td>10000935</td>\n      <td>56164612</td>\n      <td>8e3f2822-0c1d4b71-2a265bbf-5b96e531-ccf5fa30</td>\n      <td>ad13cf84-62c34a01-a01b9e87-2581a359-83bbc046</td>\n      <td>AP</td>\n      <td>LATERAL</td>\n    </tr>\n    <tr>\n      <th>4</th>\n      <td>10000980</td>\n      <td>54577367</td>\n      <td>cfb03587-782edf6c-1bf392e1-98196cd5-365d69e8</td>\n      <td>96f9a77c-59b47dfb-0cac64db-6538421a-a6b135e2</td>\n      <td>AP</td>\n      <td>LATERAL</td>\n    </tr>\n  </tbody>\n</table>\n</div>"
     },
     "execution_count": 28,
     "metadata": {},
     "output_type": "execute_result"
    }
   ],
   "source": [
    "study_id_list = df_dpg['study_id'].unique()\n",
    "data_points = []\n",
    "for study in study_id_list:\n",
    "    df_study = df_dpg[df_dpg['study_id']==study]\n",
    "    data_points = data_points + generate_combo(df_study)\n",
    "data_points_df = pd.DataFrame(data_points, columns=['subject_id', 'study_id', 'frontal_id', 'lateral_id', 'view_pos_frontal', 'view_pos_lateral'])\n",
    "data_points_df.head()"
   ],
   "metadata": {
    "collapsed": false,
    "ExecuteTime": {
     "end_time": "2024-05-02T12:55:46.800752Z",
     "start_time": "2024-05-02T12:54:43.787920Z"
    }
   }
  },
  {
   "cell_type": "code",
   "execution_count": 31,
   "outputs": [],
   "source": [
    "ap_metadata = pd.read_csv(filename_ap_meta)\n",
    "pa_metadata = pd.read_csv(filename_pa_meta)\n",
    "ll_metadata = pd.read_csv(filename_ll_meta)\n",
    "lateral_metadata = pd.read_csv(filename_lateral_meta)"
   ],
   "metadata": {
    "collapsed": false,
    "ExecuteTime": {
     "end_time": "2024-05-02T12:56:26.072117Z",
     "start_time": "2024-05-02T12:56:25.502109Z"
    }
   }
  },
  {
   "cell_type": "code",
   "execution_count": 32,
   "outputs": [
    {
     "name": "stderr",
     "output_type": "stream",
     "text": [
      "128212it [09:50, 216.95it/s]\n"
     ]
    }
   ],
   "source": [
    "from tqdm import tqdm\n",
    "\n",
    "# iterate over each row of data_points_df and extract the metadata\n",
    "data_points_df_extended = data_points_df.copy()\n",
    "idx_frontal = []\n",
    "idx_lateral = []\n",
    "for i,row in tqdm(data_points_df_extended.iterrows()):\n",
    "    if row['view_pos_frontal'] == 'AP':\n",
    "        idx_frontal.append(df_ap[df_ap['dicom_id']==row['frontal_id']].index[0])\n",
    "    elif row['view_pos_frontal'] == 'PA':\n",
    "        idx_frontal.append(df_pa[df_pa['dicom_id']==row['frontal_id']].index[0])\n",
    "    if row['view_pos_lateral'] == 'LL':\n",
    "        idx_lateral.append(df_ll[df_ll['dicom_id']==row['lateral_id']].index[0])\n",
    "    elif row['view_pos_lateral'] == 'LATERAL':\n",
    "        idx_lateral.append(df_lateral[df_lateral['dicom_id']==row['lateral_id']].index[0])\n"
   ],
   "metadata": {
    "collapsed": false,
    "ExecuteTime": {
     "end_time": "2024-05-02T13:06:17.898866Z",
     "start_time": "2024-05-02T12:56:26.926218Z"
    }
   }
  },
  {
   "cell_type": "code",
   "execution_count": 34,
   "outputs": [
    {
     "data": {
      "text/plain": "128212"
     },
     "execution_count": 34,
     "metadata": {},
     "output_type": "execute_result"
    }
   ],
   "source": [
    "#len(data_points)"
   ],
   "metadata": {
    "collapsed": false,
    "ExecuteTime": {
     "end_time": "2024-05-02T13:08:04.446693Z",
     "start_time": "2024-05-02T13:08:04.438531Z"
    }
   }
  },
  {
   "cell_type": "code",
   "execution_count": 35,
   "outputs": [],
   "source": [
    "data_points_df_extended['idx_frontal'] = idx_frontal\n",
    "data_points_df_extended['idx_lateral'] = idx_lateral"
   ],
   "metadata": {
    "collapsed": false,
    "ExecuteTime": {
     "end_time": "2024-05-02T13:08:16.105654Z",
     "start_time": "2024-05-02T13:08:16.103822Z"
    }
   }
  },
  {
   "cell_type": "code",
   "execution_count": 37,
   "outputs": [
    {
     "data": {
      "text/plain": "   subject_id  study_id                                    frontal_id  \\\n0    10000764  57375967  096052b7-d256dc40-453a102b-fa7d01c6-1b22c6b4   \n1    10000764  57375967  096052b7-d256dc40-453a102b-fa7d01c6-1b22c6b4   \n2    10000935  51178377  9b314ad7-fbcb0422-6db62dfc-732858d0-a5527d8b   \n3    10000935  56164612  8e3f2822-0c1d4b71-2a265bbf-5b96e531-ccf5fa30   \n4    10000980  54577367  cfb03587-782edf6c-1bf392e1-98196cd5-365d69e8   \n5    10000980  54980801  a75a1fbe-802065ad-717eb7c1-e2ce3552-646276a6   \n6    10001122  53957785  07b9ddda-9a4a1e1a-4495463d-4c77d947-ed368713   \n7    10001122  53957785  07b9ddda-9a4a1e1a-4495463d-4c77d947-ed368713   \n8    10001884  54369281  3fc658da-23a5d1b2-68e913fd-bf919f75-b7113290   \n9    10002131  52823782  051b7911-cb00aec9-0b309188-89803662-303ec278   \n\n                                     lateral_id view_pos_frontal  \\\n0  b79e55c3-735ce5ac-64412506-cdc9ea79-f1af521f               AP   \n1  dcfeeac4-1597e318-d0e6736a-8b2c2238-47ac3f1b               AP   \n2  3be619d1-506a66cf-ff1ab8a1-2efb77bb-fe7d59fc               AP   \n3  ad13cf84-62c34a01-a01b9e87-2581a359-83bbc046               AP   \n4  96f9a77c-59b47dfb-0cac64db-6538421a-a6b135e2               AP   \n5  e2c78502-fe9ea663-7f57d466-3e6a9be2-e969cabb               AP   \n6  9d0b174f-274aad16-82ecf512-e149845d-79154325               AP   \n7  cf25f480-4219d99b-fdd51fcb-34fc89e7-c149837f               AP   \n8  82c84173-71ed7fac-3f8d7532-a4e5095e-6db87046               AP   \n9  17ddfe00-28e1f5ac-45cd9f16-86b7ca24-2cee412f               AP   \n\n  view_pos_lateral  idx_frontal  idx_lateral  \n0          LATERAL            3            2  \n1          LATERAL            3            3  \n2          LATERAL            5            7  \n3          LATERAL            6            8  \n4          LATERAL            9            9  \n5          LATERAL           10           11  \n6          LATERAL           12           15  \n7          LATERAL           12           16  \n8          LATERAL           21           26  \n9          LATERAL           31           40  ",
      "text/html": "<div>\n<style scoped>\n    .dataframe tbody tr th:only-of-type {\n        vertical-align: middle;\n    }\n\n    .dataframe tbody tr th {\n        vertical-align: top;\n    }\n\n    .dataframe thead th {\n        text-align: right;\n    }\n</style>\n<table border=\"1\" class=\"dataframe\">\n  <thead>\n    <tr style=\"text-align: right;\">\n      <th></th>\n      <th>subject_id</th>\n      <th>study_id</th>\n      <th>frontal_id</th>\n      <th>lateral_id</th>\n      <th>view_pos_frontal</th>\n      <th>view_pos_lateral</th>\n      <th>idx_frontal</th>\n      <th>idx_lateral</th>\n    </tr>\n  </thead>\n  <tbody>\n    <tr>\n      <th>0</th>\n      <td>10000764</td>\n      <td>57375967</td>\n      <td>096052b7-d256dc40-453a102b-fa7d01c6-1b22c6b4</td>\n      <td>b79e55c3-735ce5ac-64412506-cdc9ea79-f1af521f</td>\n      <td>AP</td>\n      <td>LATERAL</td>\n      <td>3</td>\n      <td>2</td>\n    </tr>\n    <tr>\n      <th>1</th>\n      <td>10000764</td>\n      <td>57375967</td>\n      <td>096052b7-d256dc40-453a102b-fa7d01c6-1b22c6b4</td>\n      <td>dcfeeac4-1597e318-d0e6736a-8b2c2238-47ac3f1b</td>\n      <td>AP</td>\n      <td>LATERAL</td>\n      <td>3</td>\n      <td>3</td>\n    </tr>\n    <tr>\n      <th>2</th>\n      <td>10000935</td>\n      <td>51178377</td>\n      <td>9b314ad7-fbcb0422-6db62dfc-732858d0-a5527d8b</td>\n      <td>3be619d1-506a66cf-ff1ab8a1-2efb77bb-fe7d59fc</td>\n      <td>AP</td>\n      <td>LATERAL</td>\n      <td>5</td>\n      <td>7</td>\n    </tr>\n    <tr>\n      <th>3</th>\n      <td>10000935</td>\n      <td>56164612</td>\n      <td>8e3f2822-0c1d4b71-2a265bbf-5b96e531-ccf5fa30</td>\n      <td>ad13cf84-62c34a01-a01b9e87-2581a359-83bbc046</td>\n      <td>AP</td>\n      <td>LATERAL</td>\n      <td>6</td>\n      <td>8</td>\n    </tr>\n    <tr>\n      <th>4</th>\n      <td>10000980</td>\n      <td>54577367</td>\n      <td>cfb03587-782edf6c-1bf392e1-98196cd5-365d69e8</td>\n      <td>96f9a77c-59b47dfb-0cac64db-6538421a-a6b135e2</td>\n      <td>AP</td>\n      <td>LATERAL</td>\n      <td>9</td>\n      <td>9</td>\n    </tr>\n    <tr>\n      <th>5</th>\n      <td>10000980</td>\n      <td>54980801</td>\n      <td>a75a1fbe-802065ad-717eb7c1-e2ce3552-646276a6</td>\n      <td>e2c78502-fe9ea663-7f57d466-3e6a9be2-e969cabb</td>\n      <td>AP</td>\n      <td>LATERAL</td>\n      <td>10</td>\n      <td>11</td>\n    </tr>\n    <tr>\n      <th>6</th>\n      <td>10001122</td>\n      <td>53957785</td>\n      <td>07b9ddda-9a4a1e1a-4495463d-4c77d947-ed368713</td>\n      <td>9d0b174f-274aad16-82ecf512-e149845d-79154325</td>\n      <td>AP</td>\n      <td>LATERAL</td>\n      <td>12</td>\n      <td>15</td>\n    </tr>\n    <tr>\n      <th>7</th>\n      <td>10001122</td>\n      <td>53957785</td>\n      <td>07b9ddda-9a4a1e1a-4495463d-4c77d947-ed368713</td>\n      <td>cf25f480-4219d99b-fdd51fcb-34fc89e7-c149837f</td>\n      <td>AP</td>\n      <td>LATERAL</td>\n      <td>12</td>\n      <td>16</td>\n    </tr>\n    <tr>\n      <th>8</th>\n      <td>10001884</td>\n      <td>54369281</td>\n      <td>3fc658da-23a5d1b2-68e913fd-bf919f75-b7113290</td>\n      <td>82c84173-71ed7fac-3f8d7532-a4e5095e-6db87046</td>\n      <td>AP</td>\n      <td>LATERAL</td>\n      <td>21</td>\n      <td>26</td>\n    </tr>\n    <tr>\n      <th>9</th>\n      <td>10002131</td>\n      <td>52823782</td>\n      <td>051b7911-cb00aec9-0b309188-89803662-303ec278</td>\n      <td>17ddfe00-28e1f5ac-45cd9f16-86b7ca24-2cee412f</td>\n      <td>AP</td>\n      <td>LATERAL</td>\n      <td>31</td>\n      <td>40</td>\n    </tr>\n  </tbody>\n</table>\n</div>"
     },
     "execution_count": 37,
     "metadata": {},
     "output_type": "execute_result"
    }
   ],
   "source": [
    "data_points_df_extended.head(10)"
   ],
   "metadata": {
    "collapsed": false,
    "ExecuteTime": {
     "end_time": "2024-05-02T13:09:33.219689Z",
     "start_time": "2024-05-02T13:09:33.216300Z"
    }
   }
  },
  {
   "cell_type": "code",
   "execution_count": 41,
   "outputs": [
    {
     "data": {
      "text/plain": "   subject_id  study_id  Atelectasis  Cardiomegaly  Consolidation  Edema  \\\n0    10000032  50414267          NaN           NaN            NaN    NaN   \n1    10000032  53189527          NaN           NaN            NaN    NaN   \n2    10000032  53911762          NaN           NaN            NaN    NaN   \n3    10000032  56699142          NaN           NaN            NaN    NaN   \n4    10000764  57375967          NaN           NaN            1.0    NaN   \n\n   Enlarged Cardiomediastinum  Fracture  Lung Lesion  Lung Opacity  \\\n0                         NaN       NaN          NaN           NaN   \n1                         NaN       NaN          NaN           NaN   \n2                         NaN       NaN          NaN           NaN   \n3                         NaN       NaN          NaN           NaN   \n4                         NaN       NaN          NaN           NaN   \n\n   No Finding  Pleural Effusion  Pleural Other  Pneumonia  Pneumothorax  \\\n0         1.0               NaN            NaN        NaN           NaN   \n1         1.0               NaN            NaN        NaN           NaN   \n2         1.0               NaN            NaN        NaN           NaN   \n3         1.0               NaN            NaN        NaN           NaN   \n4         NaN               NaN            NaN       -1.0           NaN   \n\n   Support Devices  \n0              NaN  \n1              NaN  \n2              NaN  \n3              NaN  \n4              NaN  ",
      "text/html": "<div>\n<style scoped>\n    .dataframe tbody tr th:only-of-type {\n        vertical-align: middle;\n    }\n\n    .dataframe tbody tr th {\n        vertical-align: top;\n    }\n\n    .dataframe thead th {\n        text-align: right;\n    }\n</style>\n<table border=\"1\" class=\"dataframe\">\n  <thead>\n    <tr style=\"text-align: right;\">\n      <th></th>\n      <th>subject_id</th>\n      <th>study_id</th>\n      <th>Atelectasis</th>\n      <th>Cardiomegaly</th>\n      <th>Consolidation</th>\n      <th>Edema</th>\n      <th>Enlarged Cardiomediastinum</th>\n      <th>Fracture</th>\n      <th>Lung Lesion</th>\n      <th>Lung Opacity</th>\n      <th>No Finding</th>\n      <th>Pleural Effusion</th>\n      <th>Pleural Other</th>\n      <th>Pneumonia</th>\n      <th>Pneumothorax</th>\n      <th>Support Devices</th>\n    </tr>\n  </thead>\n  <tbody>\n    <tr>\n      <th>0</th>\n      <td>10000032</td>\n      <td>50414267</td>\n      <td>NaN</td>\n      <td>NaN</td>\n      <td>NaN</td>\n      <td>NaN</td>\n      <td>NaN</td>\n      <td>NaN</td>\n      <td>NaN</td>\n      <td>NaN</td>\n      <td>1.0</td>\n      <td>NaN</td>\n      <td>NaN</td>\n      <td>NaN</td>\n      <td>NaN</td>\n      <td>NaN</td>\n    </tr>\n    <tr>\n      <th>1</th>\n      <td>10000032</td>\n      <td>53189527</td>\n      <td>NaN</td>\n      <td>NaN</td>\n      <td>NaN</td>\n      <td>NaN</td>\n      <td>NaN</td>\n      <td>NaN</td>\n      <td>NaN</td>\n      <td>NaN</td>\n      <td>1.0</td>\n      <td>NaN</td>\n      <td>NaN</td>\n      <td>NaN</td>\n      <td>NaN</td>\n      <td>NaN</td>\n    </tr>\n    <tr>\n      <th>2</th>\n      <td>10000032</td>\n      <td>53911762</td>\n      <td>NaN</td>\n      <td>NaN</td>\n      <td>NaN</td>\n      <td>NaN</td>\n      <td>NaN</td>\n      <td>NaN</td>\n      <td>NaN</td>\n      <td>NaN</td>\n      <td>1.0</td>\n      <td>NaN</td>\n      <td>NaN</td>\n      <td>NaN</td>\n      <td>NaN</td>\n      <td>NaN</td>\n    </tr>\n    <tr>\n      <th>3</th>\n      <td>10000032</td>\n      <td>56699142</td>\n      <td>NaN</td>\n      <td>NaN</td>\n      <td>NaN</td>\n      <td>NaN</td>\n      <td>NaN</td>\n      <td>NaN</td>\n      <td>NaN</td>\n      <td>NaN</td>\n      <td>1.0</td>\n      <td>NaN</td>\n      <td>NaN</td>\n      <td>NaN</td>\n      <td>NaN</td>\n      <td>NaN</td>\n    </tr>\n    <tr>\n      <th>4</th>\n      <td>10000764</td>\n      <td>57375967</td>\n      <td>NaN</td>\n      <td>NaN</td>\n      <td>1.0</td>\n      <td>NaN</td>\n      <td>NaN</td>\n      <td>NaN</td>\n      <td>NaN</td>\n      <td>NaN</td>\n      <td>NaN</td>\n      <td>NaN</td>\n      <td>NaN</td>\n      <td>-1.0</td>\n      <td>NaN</td>\n      <td>NaN</td>\n    </tr>\n  </tbody>\n</table>\n</div>"
     },
     "execution_count": 41,
     "metadata": {},
     "output_type": "execute_result"
    }
   ],
   "source": [
    "# add information about the study labels\n",
    "df_label.head()"
   ],
   "metadata": {
    "collapsed": false,
    "ExecuteTime": {
     "end_time": "2024-05-02T13:14:20.911243Z",
     "start_time": "2024-05-02T13:14:20.908206Z"
    }
   }
  },
  {
   "cell_type": "code",
   "execution_count": 42,
   "outputs": [],
   "source": [
    "# join df_label to the data_points_df_extended\n",
    "data_points_df_extended = data_points_df_extended.join(df_label.set_index('study_id'), on='study_id', how='left', rsuffix='_r')"
   ],
   "metadata": {
    "collapsed": false,
    "ExecuteTime": {
     "end_time": "2024-05-02T13:15:12.931034Z",
     "start_time": "2024-05-02T13:15:12.895921Z"
    }
   }
  },
  {
   "cell_type": "code",
   "execution_count": 55,
   "outputs": [
    {
     "data": {
      "text/plain": "   subject_id  study_id                                    frontal_id  \\\n0    10000764  57375967  096052b7-d256dc40-453a102b-fa7d01c6-1b22c6b4   \n1    10000764  57375967  096052b7-d256dc40-453a102b-fa7d01c6-1b22c6b4   \n2    10000935  51178377  9b314ad7-fbcb0422-6db62dfc-732858d0-a5527d8b   \n3    10000935  56164612  8e3f2822-0c1d4b71-2a265bbf-5b96e531-ccf5fa30   \n4    10000980  54577367  cfb03587-782edf6c-1bf392e1-98196cd5-365d69e8   \n\n                                     lateral_id view_pos_frontal  \\\n0  b79e55c3-735ce5ac-64412506-cdc9ea79-f1af521f               AP   \n1  dcfeeac4-1597e318-d0e6736a-8b2c2238-47ac3f1b               AP   \n2  3be619d1-506a66cf-ff1ab8a1-2efb77bb-fe7d59fc               AP   \n3  ad13cf84-62c34a01-a01b9e87-2581a359-83bbc046               AP   \n4  96f9a77c-59b47dfb-0cac64db-6538421a-a6b135e2               AP   \n\n  view_pos_lateral  idx_frontal  idx_lateral  Atelectasis  Cardiomegaly  ...  \\\n0          LATERAL            3            2          NaN           NaN  ...   \n1          LATERAL            3            3          NaN           NaN  ...   \n2          LATERAL            5            7          NaN           NaN  ...   \n3          LATERAL            6            8          NaN           NaN  ...   \n4          LATERAL            9            9          NaN           NaN  ...   \n\n   Enlarged Cardiomediastinum  Fracture  Lung Lesion  Lung Opacity  \\\n0                         NaN       NaN          NaN           NaN   \n1                         NaN       NaN          NaN           NaN   \n2                         NaN       NaN          NaN           1.0   \n3                         NaN       NaN          1.0           1.0   \n4                         NaN       NaN          NaN           NaN   \n\n   No Finding  Pleural Effusion  Pleural Other  Pneumonia  Pneumothorax  \\\n0         NaN               NaN            NaN       -1.0           NaN   \n1         NaN               NaN            NaN       -1.0           NaN   \n2         NaN               NaN            NaN       -1.0           NaN   \n3         NaN               NaN            NaN        NaN           NaN   \n4         1.0               NaN            NaN        0.0           NaN   \n\n   Support Devices  \n0              NaN  \n1              NaN  \n2              NaN  \n3              NaN  \n4              NaN  \n\n[5 rows x 22 columns]",
      "text/html": "<div>\n<style scoped>\n    .dataframe tbody tr th:only-of-type {\n        vertical-align: middle;\n    }\n\n    .dataframe tbody tr th {\n        vertical-align: top;\n    }\n\n    .dataframe thead th {\n        text-align: right;\n    }\n</style>\n<table border=\"1\" class=\"dataframe\">\n  <thead>\n    <tr style=\"text-align: right;\">\n      <th></th>\n      <th>subject_id</th>\n      <th>study_id</th>\n      <th>frontal_id</th>\n      <th>lateral_id</th>\n      <th>view_pos_frontal</th>\n      <th>view_pos_lateral</th>\n      <th>idx_frontal</th>\n      <th>idx_lateral</th>\n      <th>Atelectasis</th>\n      <th>Cardiomegaly</th>\n      <th>...</th>\n      <th>Enlarged Cardiomediastinum</th>\n      <th>Fracture</th>\n      <th>Lung Lesion</th>\n      <th>Lung Opacity</th>\n      <th>No Finding</th>\n      <th>Pleural Effusion</th>\n      <th>Pleural Other</th>\n      <th>Pneumonia</th>\n      <th>Pneumothorax</th>\n      <th>Support Devices</th>\n    </tr>\n  </thead>\n  <tbody>\n    <tr>\n      <th>0</th>\n      <td>10000764</td>\n      <td>57375967</td>\n      <td>096052b7-d256dc40-453a102b-fa7d01c6-1b22c6b4</td>\n      <td>b79e55c3-735ce5ac-64412506-cdc9ea79-f1af521f</td>\n      <td>AP</td>\n      <td>LATERAL</td>\n      <td>3</td>\n      <td>2</td>\n      <td>NaN</td>\n      <td>NaN</td>\n      <td>...</td>\n      <td>NaN</td>\n      <td>NaN</td>\n      <td>NaN</td>\n      <td>NaN</td>\n      <td>NaN</td>\n      <td>NaN</td>\n      <td>NaN</td>\n      <td>-1.0</td>\n      <td>NaN</td>\n      <td>NaN</td>\n    </tr>\n    <tr>\n      <th>1</th>\n      <td>10000764</td>\n      <td>57375967</td>\n      <td>096052b7-d256dc40-453a102b-fa7d01c6-1b22c6b4</td>\n      <td>dcfeeac4-1597e318-d0e6736a-8b2c2238-47ac3f1b</td>\n      <td>AP</td>\n      <td>LATERAL</td>\n      <td>3</td>\n      <td>3</td>\n      <td>NaN</td>\n      <td>NaN</td>\n      <td>...</td>\n      <td>NaN</td>\n      <td>NaN</td>\n      <td>NaN</td>\n      <td>NaN</td>\n      <td>NaN</td>\n      <td>NaN</td>\n      <td>NaN</td>\n      <td>-1.0</td>\n      <td>NaN</td>\n      <td>NaN</td>\n    </tr>\n    <tr>\n      <th>2</th>\n      <td>10000935</td>\n      <td>51178377</td>\n      <td>9b314ad7-fbcb0422-6db62dfc-732858d0-a5527d8b</td>\n      <td>3be619d1-506a66cf-ff1ab8a1-2efb77bb-fe7d59fc</td>\n      <td>AP</td>\n      <td>LATERAL</td>\n      <td>5</td>\n      <td>7</td>\n      <td>NaN</td>\n      <td>NaN</td>\n      <td>...</td>\n      <td>NaN</td>\n      <td>NaN</td>\n      <td>NaN</td>\n      <td>1.0</td>\n      <td>NaN</td>\n      <td>NaN</td>\n      <td>NaN</td>\n      <td>-1.0</td>\n      <td>NaN</td>\n      <td>NaN</td>\n    </tr>\n    <tr>\n      <th>3</th>\n      <td>10000935</td>\n      <td>56164612</td>\n      <td>8e3f2822-0c1d4b71-2a265bbf-5b96e531-ccf5fa30</td>\n      <td>ad13cf84-62c34a01-a01b9e87-2581a359-83bbc046</td>\n      <td>AP</td>\n      <td>LATERAL</td>\n      <td>6</td>\n      <td>8</td>\n      <td>NaN</td>\n      <td>NaN</td>\n      <td>...</td>\n      <td>NaN</td>\n      <td>NaN</td>\n      <td>1.0</td>\n      <td>1.0</td>\n      <td>NaN</td>\n      <td>NaN</td>\n      <td>NaN</td>\n      <td>NaN</td>\n      <td>NaN</td>\n      <td>NaN</td>\n    </tr>\n    <tr>\n      <th>4</th>\n      <td>10000980</td>\n      <td>54577367</td>\n      <td>cfb03587-782edf6c-1bf392e1-98196cd5-365d69e8</td>\n      <td>96f9a77c-59b47dfb-0cac64db-6538421a-a6b135e2</td>\n      <td>AP</td>\n      <td>LATERAL</td>\n      <td>9</td>\n      <td>9</td>\n      <td>NaN</td>\n      <td>NaN</td>\n      <td>...</td>\n      <td>NaN</td>\n      <td>NaN</td>\n      <td>NaN</td>\n      <td>NaN</td>\n      <td>1.0</td>\n      <td>NaN</td>\n      <td>NaN</td>\n      <td>0.0</td>\n      <td>NaN</td>\n      <td>NaN</td>\n    </tr>\n  </tbody>\n</table>\n<p>5 rows × 22 columns</p>\n</div>"
     },
     "execution_count": 55,
     "metadata": {},
     "output_type": "execute_result"
    }
   ],
   "source": [
    "data_points_df_extended.head()"
   ],
   "metadata": {
    "collapsed": false,
    "ExecuteTime": {
     "end_time": "2024-05-02T13:24:06.371621Z",
     "start_time": "2024-05-02T13:24:06.366831Z"
    }
   }
  },
  {
   "cell_type": "code",
   "execution_count": 45,
   "outputs": [],
   "source": [
    "#assert that subject_id is the same as subject_id_r for all rows\n",
    "assert all(data_points_df_extended['subject_id'] == data_points_df_extended['subject_id_r'])\n",
    "#remove subject_id_r\n",
    "data_points_df_extended = data_points_df_extended.drop(columns=['subject_id_r'])"
   ],
   "metadata": {
    "collapsed": false,
    "ExecuteTime": {
     "end_time": "2024-05-02T13:16:11.502603Z",
     "start_time": "2024-05-02T13:16:11.494889Z"
    }
   }
  },
  {
   "cell_type": "code",
   "execution_count": 54,
   "outputs": [
    {
     "data": {
      "text/plain": "                                       dicom_id  subject_id  study_id  \\\n0  68b5c4b1-227d0485-9cc38c3f-7b84ab51-4b472714    10000032  53911762   \n1  fffabebf-74fd3a1f-673b6b41-96ec0ac9-2ab69818    10000032  53911762   \n2  ea030e7a-2e3b1346-bc518786-7a8fd698-f673b44c    10000032  56699142   \n3  096052b7-d256dc40-453a102b-fa7d01c6-1b22c6b4    10000764  57375967   \n4  d0b71acc-b5a62046-bbb5f6b8-7b173b85-65cdf738    10000935  50578979   \n\n  ViewPosition  Atelectasis  Cardiomegaly  Consolidation  Edema  \\\n0           AP          NaN           NaN            NaN    NaN   \n1           AP          NaN           NaN            NaN    NaN   \n2           AP          NaN           NaN            NaN    NaN   \n3           AP          NaN           NaN            1.0    NaN   \n4           AP          NaN           NaN            NaN   -1.0   \n\n   Enlarged Cardiomediastinum  Fracture  Lung Lesion  Lung Opacity  \\\n0                         NaN       NaN          NaN           NaN   \n1                         NaN       NaN          NaN           NaN   \n2                         NaN       NaN          NaN           NaN   \n3                         NaN       NaN          NaN           NaN   \n4                         NaN       NaN          NaN          -1.0   \n\n   No Finding  Pleural Effusion  Pleural Other  Pneumonia  Pneumothorax  \\\n0         1.0               NaN            NaN        NaN           NaN   \n1         1.0               NaN            NaN        NaN           NaN   \n2         1.0               NaN            NaN        NaN           NaN   \n3         NaN               NaN            NaN       -1.0           NaN   \n4         NaN               1.0            NaN        1.0           NaN   \n\n   Support Devices                                               path  \n0              NaN  files/p10/p10000032/s53911762/68b5c4b1-227d048...  \n1              NaN  files/p10/p10000032/s53911762/fffabebf-74fd3a1...  \n2              NaN  files/p10/p10000032/s56699142/ea030e7a-2e3b134...  \n3              NaN  files/p10/p10000764/s57375967/096052b7-d256dc4...  \n4              NaN  files/p10/p10000935/s50578979/d0b71acc-b5a6204...  ",
      "text/html": "<div>\n<style scoped>\n    .dataframe tbody tr th:only-of-type {\n        vertical-align: middle;\n    }\n\n    .dataframe tbody tr th {\n        vertical-align: top;\n    }\n\n    .dataframe thead th {\n        text-align: right;\n    }\n</style>\n<table border=\"1\" class=\"dataframe\">\n  <thead>\n    <tr style=\"text-align: right;\">\n      <th></th>\n      <th>dicom_id</th>\n      <th>subject_id</th>\n      <th>study_id</th>\n      <th>ViewPosition</th>\n      <th>Atelectasis</th>\n      <th>Cardiomegaly</th>\n      <th>Consolidation</th>\n      <th>Edema</th>\n      <th>Enlarged Cardiomediastinum</th>\n      <th>Fracture</th>\n      <th>Lung Lesion</th>\n      <th>Lung Opacity</th>\n      <th>No Finding</th>\n      <th>Pleural Effusion</th>\n      <th>Pleural Other</th>\n      <th>Pneumonia</th>\n      <th>Pneumothorax</th>\n      <th>Support Devices</th>\n      <th>path</th>\n    </tr>\n  </thead>\n  <tbody>\n    <tr>\n      <th>0</th>\n      <td>68b5c4b1-227d0485-9cc38c3f-7b84ab51-4b472714</td>\n      <td>10000032</td>\n      <td>53911762</td>\n      <td>AP</td>\n      <td>NaN</td>\n      <td>NaN</td>\n      <td>NaN</td>\n      <td>NaN</td>\n      <td>NaN</td>\n      <td>NaN</td>\n      <td>NaN</td>\n      <td>NaN</td>\n      <td>1.0</td>\n      <td>NaN</td>\n      <td>NaN</td>\n      <td>NaN</td>\n      <td>NaN</td>\n      <td>NaN</td>\n      <td>files/p10/p10000032/s53911762/68b5c4b1-227d048...</td>\n    </tr>\n    <tr>\n      <th>1</th>\n      <td>fffabebf-74fd3a1f-673b6b41-96ec0ac9-2ab69818</td>\n      <td>10000032</td>\n      <td>53911762</td>\n      <td>AP</td>\n      <td>NaN</td>\n      <td>NaN</td>\n      <td>NaN</td>\n      <td>NaN</td>\n      <td>NaN</td>\n      <td>NaN</td>\n      <td>NaN</td>\n      <td>NaN</td>\n      <td>1.0</td>\n      <td>NaN</td>\n      <td>NaN</td>\n      <td>NaN</td>\n      <td>NaN</td>\n      <td>NaN</td>\n      <td>files/p10/p10000032/s53911762/fffabebf-74fd3a1...</td>\n    </tr>\n    <tr>\n      <th>2</th>\n      <td>ea030e7a-2e3b1346-bc518786-7a8fd698-f673b44c</td>\n      <td>10000032</td>\n      <td>56699142</td>\n      <td>AP</td>\n      <td>NaN</td>\n      <td>NaN</td>\n      <td>NaN</td>\n      <td>NaN</td>\n      <td>NaN</td>\n      <td>NaN</td>\n      <td>NaN</td>\n      <td>NaN</td>\n      <td>1.0</td>\n      <td>NaN</td>\n      <td>NaN</td>\n      <td>NaN</td>\n      <td>NaN</td>\n      <td>NaN</td>\n      <td>files/p10/p10000032/s56699142/ea030e7a-2e3b134...</td>\n    </tr>\n    <tr>\n      <th>3</th>\n      <td>096052b7-d256dc40-453a102b-fa7d01c6-1b22c6b4</td>\n      <td>10000764</td>\n      <td>57375967</td>\n      <td>AP</td>\n      <td>NaN</td>\n      <td>NaN</td>\n      <td>1.0</td>\n      <td>NaN</td>\n      <td>NaN</td>\n      <td>NaN</td>\n      <td>NaN</td>\n      <td>NaN</td>\n      <td>NaN</td>\n      <td>NaN</td>\n      <td>NaN</td>\n      <td>-1.0</td>\n      <td>NaN</td>\n      <td>NaN</td>\n      <td>files/p10/p10000764/s57375967/096052b7-d256dc4...</td>\n    </tr>\n    <tr>\n      <th>4</th>\n      <td>d0b71acc-b5a62046-bbb5f6b8-7b173b85-65cdf738</td>\n      <td>10000935</td>\n      <td>50578979</td>\n      <td>AP</td>\n      <td>NaN</td>\n      <td>NaN</td>\n      <td>NaN</td>\n      <td>-1.0</td>\n      <td>NaN</td>\n      <td>NaN</td>\n      <td>NaN</td>\n      <td>-1.0</td>\n      <td>NaN</td>\n      <td>1.0</td>\n      <td>NaN</td>\n      <td>1.0</td>\n      <td>NaN</td>\n      <td>NaN</td>\n      <td>files/p10/p10000935/s50578979/d0b71acc-b5a6204...</td>\n    </tr>\n  </tbody>\n</table>\n</div>"
     },
     "execution_count": 54,
     "metadata": {},
     "output_type": "execute_result"
    }
   ],
   "source": [
    "df_ap.head()"
   ],
   "metadata": {
    "collapsed": false,
    "ExecuteTime": {
     "end_time": "2024-05-02T13:21:16.913182Z",
     "start_time": "2024-05-02T13:21:16.895692Z"
    }
   }
  },
  {
   "cell_type": "code",
   "execution_count": 56,
   "outputs": [
    {
     "data": {
      "text/plain": "                                       dicom_id  subject_id  study_id  \\\n3  096052b7-d256dc40-453a102b-fa7d01c6-1b22c6b4    10000764  57375967   \n\n  ViewPosition  Atelectasis  Cardiomegaly  Consolidation  Edema  \\\n3           AP          NaN           NaN            1.0    NaN   \n\n   Enlarged Cardiomediastinum  Fracture  Lung Lesion  Lung Opacity  \\\n3                         NaN       NaN          NaN           NaN   \n\n   No Finding  Pleural Effusion  Pleural Other  Pneumonia  Pneumothorax  \\\n3         NaN               NaN            NaN       -1.0           NaN   \n\n   Support Devices                                               path  \n3              NaN  files/p10/p10000764/s57375967/096052b7-d256dc4...  ",
      "text/html": "<div>\n<style scoped>\n    .dataframe tbody tr th:only-of-type {\n        vertical-align: middle;\n    }\n\n    .dataframe tbody tr th {\n        vertical-align: top;\n    }\n\n    .dataframe thead th {\n        text-align: right;\n    }\n</style>\n<table border=\"1\" class=\"dataframe\">\n  <thead>\n    <tr style=\"text-align: right;\">\n      <th></th>\n      <th>dicom_id</th>\n      <th>subject_id</th>\n      <th>study_id</th>\n      <th>ViewPosition</th>\n      <th>Atelectasis</th>\n      <th>Cardiomegaly</th>\n      <th>Consolidation</th>\n      <th>Edema</th>\n      <th>Enlarged Cardiomediastinum</th>\n      <th>Fracture</th>\n      <th>Lung Lesion</th>\n      <th>Lung Opacity</th>\n      <th>No Finding</th>\n      <th>Pleural Effusion</th>\n      <th>Pleural Other</th>\n      <th>Pneumonia</th>\n      <th>Pneumothorax</th>\n      <th>Support Devices</th>\n      <th>path</th>\n    </tr>\n  </thead>\n  <tbody>\n    <tr>\n      <th>3</th>\n      <td>096052b7-d256dc40-453a102b-fa7d01c6-1b22c6b4</td>\n      <td>10000764</td>\n      <td>57375967</td>\n      <td>AP</td>\n      <td>NaN</td>\n      <td>NaN</td>\n      <td>1.0</td>\n      <td>NaN</td>\n      <td>NaN</td>\n      <td>NaN</td>\n      <td>NaN</td>\n      <td>NaN</td>\n      <td>NaN</td>\n      <td>NaN</td>\n      <td>NaN</td>\n      <td>-1.0</td>\n      <td>NaN</td>\n      <td>NaN</td>\n      <td>files/p10/p10000764/s57375967/096052b7-d256dc4...</td>\n    </tr>\n  </tbody>\n</table>\n</div>"
     },
     "execution_count": 56,
     "metadata": {},
     "output_type": "execute_result"
    }
   ],
   "source": [
    "# df_ap where dicom_id == 096052b7-d256dc40-453a102b-fa7d01c6-1b22c6b4\n",
    "df_ap[df_ap['dicom_id']=='096052b7-d256dc40-453a102b-fa7d01c6-1b22c6b4']"
   ],
   "metadata": {
    "collapsed": false,
    "ExecuteTime": {
     "end_time": "2024-05-02T13:24:19.372765Z",
     "start_time": "2024-05-02T13:24:19.365040Z"
    }
   }
  },
  {
   "cell_type": "code",
   "execution_count": 58,
   "outputs": [
    {
     "data": {
      "text/plain": "                                       dicom_id  subject_id  study_id  \\\n2  b79e55c3-735ce5ac-64412506-cdc9ea79-f1af521f    10000764  57375967   \n\n  ViewPosition  Atelectasis  Cardiomegaly  Consolidation  Edema  \\\n2      LATERAL          NaN           NaN            1.0    NaN   \n\n   Enlarged Cardiomediastinum  Fracture  Lung Lesion  Lung Opacity  \\\n2                         NaN       NaN          NaN           NaN   \n\n   No Finding  Pleural Effusion  Pleural Other  Pneumonia  Pneumothorax  \\\n2         NaN               NaN            NaN       -1.0           NaN   \n\n   Support Devices                                               path  \n2              NaN  files/p10/p10000764/s57375967/b79e55c3-735ce5a...  ",
      "text/html": "<div>\n<style scoped>\n    .dataframe tbody tr th:only-of-type {\n        vertical-align: middle;\n    }\n\n    .dataframe tbody tr th {\n        vertical-align: top;\n    }\n\n    .dataframe thead th {\n        text-align: right;\n    }\n</style>\n<table border=\"1\" class=\"dataframe\">\n  <thead>\n    <tr style=\"text-align: right;\">\n      <th></th>\n      <th>dicom_id</th>\n      <th>subject_id</th>\n      <th>study_id</th>\n      <th>ViewPosition</th>\n      <th>Atelectasis</th>\n      <th>Cardiomegaly</th>\n      <th>Consolidation</th>\n      <th>Edema</th>\n      <th>Enlarged Cardiomediastinum</th>\n      <th>Fracture</th>\n      <th>Lung Lesion</th>\n      <th>Lung Opacity</th>\n      <th>No Finding</th>\n      <th>Pleural Effusion</th>\n      <th>Pleural Other</th>\n      <th>Pneumonia</th>\n      <th>Pneumothorax</th>\n      <th>Support Devices</th>\n      <th>path</th>\n    </tr>\n  </thead>\n  <tbody>\n    <tr>\n      <th>2</th>\n      <td>b79e55c3-735ce5ac-64412506-cdc9ea79-f1af521f</td>\n      <td>10000764</td>\n      <td>57375967</td>\n      <td>LATERAL</td>\n      <td>NaN</td>\n      <td>NaN</td>\n      <td>1.0</td>\n      <td>NaN</td>\n      <td>NaN</td>\n      <td>NaN</td>\n      <td>NaN</td>\n      <td>NaN</td>\n      <td>NaN</td>\n      <td>NaN</td>\n      <td>NaN</td>\n      <td>-1.0</td>\n      <td>NaN</td>\n      <td>NaN</td>\n      <td>files/p10/p10000764/s57375967/b79e55c3-735ce5a...</td>\n    </tr>\n  </tbody>\n</table>\n</div>"
     },
     "execution_count": 58,
     "metadata": {},
     "output_type": "execute_result"
    }
   ],
   "source": [
    "# df_lateral where dicom_id == b79e55c3-735ce5ac-64412506-cdc9ea79-f1af521f\n",
    "df_lateral[df_lateral['dicom_id']=='b79e55c3-735ce5ac-64412506-cdc9ea79-f1af521f']"
   ],
   "metadata": {
    "collapsed": false,
    "ExecuteTime": {
     "end_time": "2024-05-02T13:25:21.318542Z",
     "start_time": "2024-05-02T13:25:21.307330Z"
    }
   }
  },
  {
   "cell_type": "code",
   "execution_count": 62,
   "outputs": [],
   "source": [
    "# save data_points_df_extended\n",
    "# sort by subject_id\n",
    "data_points_df_extended = data_points_df_extended.sort_values(by='subject_id')\n",
    "data_points_df_extended.to_csv(os.path.join(path, \"all_combi_no_missing_metadata.csv\"), index=False)"
   ],
   "metadata": {
    "collapsed": false,
    "ExecuteTime": {
     "end_time": "2024-05-02T13:29:01.494340Z",
     "start_time": "2024-05-02T13:29:00.995736Z"
    }
   }
  }
 ],
 "metadata": {
  "kernelspec": {
   "display_name": "Python 3",
   "language": "python",
   "name": "python3"
  },
  "language_info": {
   "codemirror_mode": {
    "name": "ipython",
    "version": 2
   },
   "file_extension": ".py",
   "mimetype": "text/x-python",
   "name": "python",
   "nbconvert_exporter": "python",
   "pygments_lexer": "ipython2",
   "version": "2.7.6"
  }
 },
 "nbformat": 4,
 "nbformat_minor": 0
}
